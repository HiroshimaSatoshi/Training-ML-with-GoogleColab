{
  "nbformat": 4,
  "nbformat_minor": 0,
  "metadata": {
    "colab": {
      "name": " ClassificationProblem-fundamental.ipynb",
      "provenance": [],
      "collapsed_sections": [],
      "authorship_tag": "ABX9TyPuxLhXRbX7d7U9FwEeeZJR"
    },
    "kernelspec": {
      "name": "python3",
      "display_name": "Python 3"
    },
    "language_info": {
      "name": "python"
    }
  },
  "cells": [
    {
      "cell_type": "markdown",
      "metadata": {
        "id": "BgunQ4_ZubF4"
      },
      "source": [
        "# 分類問題"
      ]
    },
    {
      "cell_type": "markdown",
      "metadata": {
        "id": "Dy4DM5LlYx2E"
      },
      "source": [
        "## オブジェクト指向のパーセプトロンAPI\n",
        "\n",
        "---"
      ]
    },
    {
      "cell_type": "code",
      "metadata": {
        "id": "6njt88QlYsl3"
      },
      "source": [
        "import numpy as np\n",
        "\n",
        "class Perceptron(object):\n",
        "  \"\"\" パーセプトロンの分類機\n",
        "  パラメーター\n",
        "  ---------------------\n",
        "  eta : float\n",
        "      学習率 ( 0.0 より大きく 1.0 以下の値 )\n",
        "  n_iter : int\n",
        "      訓練データの訓練回数\n",
        "  random_state : int\n",
        "    重みを初期化するための乱数シード\n",
        "  属性\n",
        "  ---------------------\n",
        "  w_ : １次元配列\n",
        "      適合後のおもみ\n",
        "  errors_ : リスト\n",
        "      各エポックでの誤分類(更新)の数\n",
        "\n",
        "  \"\"\"\n",
        "  def __init__(self, eta=0.01, n_iter=50, random_state=1):\n",
        "    self.eta = eta\n",
        "    self.n_iter = n_iter\n",
        "    self.random_state = random_state\n",
        "  \n",
        "  def fit(self, X, y):\n",
        "    \"\"\" 訓練データに適合させる\n",
        "    パラメーター\n",
        "    ---------------------\n",
        "    X : { 配列のようなデータ構造 }, shape = {n_examples, n_features}\n",
        "        訓練データ\n",
        "        n_examplesは訓練データの個数, n_featuresは特徴量の個数\n",
        "    y : 配列のようなデータ構造, shape = {n_examples}\n",
        "        目的変数\n",
        "    戻り値\n",
        "    ---------------------\n",
        "    self : object\n",
        "\n",
        "    \"\"\"\n",
        "    rgen = np.random.RandomState(self.random_state)\n",
        "    self.w_ = rgen.normal(loc=0.0, scale=0.01, size=1 + X.shape[1])\n",
        "    self.errors_ = []\n",
        "\n",
        "    for _ in range(self.n_iter):\n",
        "      errors = 0\n",
        "      for xi, target in zip(X, y):\n",
        "        update = self.eta * (target - self.predict(xi))\n",
        "        self.w_[1:] += update * xi\n",
        "        self.w_[0] += update\n",
        "        errors += int(update != 0.0)\n",
        "      self.errors_.append(errors)\n",
        "    return self\n",
        "\n",
        "  def net_input(self, X):\n",
        "    \"\"\" 総入力を計算 \"\"\"\n",
        "    return np.dot(X, self.w_[1:]) + self.w_[0]\n",
        "\n",
        "  def predict(self, X):\n",
        "    \"\"\" 1ステップ後のクラスラベルを返す \"\"\"\n",
        "    return np.where(self.net_input(X) >= 0.0, 1, -1)\n",
        "  "
      ],
      "execution_count": 25,
      "outputs": []
    },
    {
      "cell_type": "code",
      "metadata": {
        "colab": {
          "base_uri": "https://localhost:8080/",
          "height": 221
        },
        "id": "9d8Xe_ChkTYk",
        "outputId": "d7e23da1-ab8e-4209-a6b3-90c76bced0e5"
      },
      "source": [
        "import os\n",
        "import pandas as pd\n",
        "s =os.path.join('https://archive.ics.uci.edu', 'ml', 'machine-learning-databases', 'iris','iris.data')\n",
        "print('URL : ', s)\n",
        "df = pd.read_csv(s, header=None, encoding='utf-8')\n",
        "df.tail()"
      ],
      "execution_count": 26,
      "outputs": [
        {
          "output_type": "stream",
          "text": [
            "URL :  https://archive.ics.uci.edu/ml/machine-learning-databases/iris/iris.data\n"
          ],
          "name": "stdout"
        },
        {
          "output_type": "execute_result",
          "data": {
            "text/html": [
              "<div>\n",
              "<style scoped>\n",
              "    .dataframe tbody tr th:only-of-type {\n",
              "        vertical-align: middle;\n",
              "    }\n",
              "\n",
              "    .dataframe tbody tr th {\n",
              "        vertical-align: top;\n",
              "    }\n",
              "\n",
              "    .dataframe thead th {\n",
              "        text-align: right;\n",
              "    }\n",
              "</style>\n",
              "<table border=\"1\" class=\"dataframe\">\n",
              "  <thead>\n",
              "    <tr style=\"text-align: right;\">\n",
              "      <th></th>\n",
              "      <th>0</th>\n",
              "      <th>1</th>\n",
              "      <th>2</th>\n",
              "      <th>3</th>\n",
              "      <th>4</th>\n",
              "    </tr>\n",
              "  </thead>\n",
              "  <tbody>\n",
              "    <tr>\n",
              "      <th>145</th>\n",
              "      <td>6.7</td>\n",
              "      <td>3.0</td>\n",
              "      <td>5.2</td>\n",
              "      <td>2.3</td>\n",
              "      <td>Iris-virginica</td>\n",
              "    </tr>\n",
              "    <tr>\n",
              "      <th>146</th>\n",
              "      <td>6.3</td>\n",
              "      <td>2.5</td>\n",
              "      <td>5.0</td>\n",
              "      <td>1.9</td>\n",
              "      <td>Iris-virginica</td>\n",
              "    </tr>\n",
              "    <tr>\n",
              "      <th>147</th>\n",
              "      <td>6.5</td>\n",
              "      <td>3.0</td>\n",
              "      <td>5.2</td>\n",
              "      <td>2.0</td>\n",
              "      <td>Iris-virginica</td>\n",
              "    </tr>\n",
              "    <tr>\n",
              "      <th>148</th>\n",
              "      <td>6.2</td>\n",
              "      <td>3.4</td>\n",
              "      <td>5.4</td>\n",
              "      <td>2.3</td>\n",
              "      <td>Iris-virginica</td>\n",
              "    </tr>\n",
              "    <tr>\n",
              "      <th>149</th>\n",
              "      <td>5.9</td>\n",
              "      <td>3.0</td>\n",
              "      <td>5.1</td>\n",
              "      <td>1.8</td>\n",
              "      <td>Iris-virginica</td>\n",
              "    </tr>\n",
              "  </tbody>\n",
              "</table>\n",
              "</div>"
            ],
            "text/plain": [
              "       0    1    2    3               4\n",
              "145  6.7  3.0  5.2  2.3  Iris-virginica\n",
              "146  6.3  2.5  5.0  1.9  Iris-virginica\n",
              "147  6.5  3.0  5.2  2.0  Iris-virginica\n",
              "148  6.2  3.4  5.4  2.3  Iris-virginica\n",
              "149  5.9  3.0  5.1  1.8  Iris-virginica"
            ]
          },
          "metadata": {
            "tags": []
          },
          "execution_count": 26
        }
      ]
    },
    {
      "cell_type": "code",
      "metadata": {
        "colab": {
          "base_uri": "https://localhost:8080/",
          "height": 279
        },
        "id": "5gZKrWRilpui",
        "outputId": "f07ece42-9bf1-4d9f-e46b-fe211a464f03"
      },
      "source": [
        "import matplotlib.pyplot as plt\n",
        "#import numpy as np\n",
        "\n",
        "# 目的変数の抽出 (1-100行, 4番目)\n",
        "y = df.iloc[0:100, 4].values\n",
        "# Iris-setosaを -1, Iris-virginicaを　１\n",
        "y = np.where(y == 'Iris-setosa', -1 ,1)\n",
        "# 目的変数の抽出 (1-100行, 1,3番目)\n",
        "X = df.iloc[0:100, [0, 2]].values\n",
        "# 品種setosaのプロット\n",
        "plt.scatter(X[:50,0], X[:50,1], color='red', marker='o', label='setosa')\n",
        "# 品種versicolorのプロット\n",
        "plt.scatter(X[50:100,0], X[50:100,1], color='blue', marker='x', label='versicolor')\n",
        "# 軸ラベル\n",
        "plt.xlabel('sepal length [cm]')\n",
        "plt.ylabel('petal length [cm]')\n",
        "plt.legend(loc='upper left')\n",
        "plt.show()"
      ],
      "execution_count": 27,
      "outputs": [
        {
          "output_type": "display_data",
          "data": {
            "image/png": "[encoded data removed]",
            "text/plain": [
              "<Figure size 432x288 with 1 Axes>"
            ]
          },
          "metadata": {
            "tags": [],
            "needs_background": "light"
          }
        }
      ]
    },
    {
      "cell_type": "code",
      "metadata": {
        "colab": {
          "base_uri": "https://localhost:8080/",
          "height": 279
        },
        "id": "t8_-a_N2pdOV",
        "outputId": "c53a5a2b-9db4-4c47-dfc1-84e1cb2e4408"
      },
      "source": [
        "ppn = Perceptron(eta=0.1, n_iter=10)\n",
        "# 訓練データへのモデルの適応\n",
        "ppn.fit(X, y)\n",
        "# エポックと誤分類の関係を表す折れ線グラフをプロット\n",
        "plt.plot(range(1, len(ppn.errors_) + 1), ppn.errors_, marker='o')\n",
        "\n",
        "plt.xlabel('Epochs')\n",
        "plt.ylabel('Number of update')\n",
        "plt.show()"
      ],
      "execution_count": 28,
      "outputs": [
        {
          "output_type": "display_data",
          "data": {
            "image/png": "[encoded data removed]",
            "text/plain": [
              "<Figure size 432x288 with 1 Axes>"
            ]
          },
          "metadata": {
            "tags": [],
            "needs_background": "light"
          }
        }
      ]
    },
    {
      "cell_type": "code",
      "metadata": {
        "id": "wsyzUQA2EgIf"
      },
      "source": [
        "from matplotlib.colors import ListedColormap\n",
        "\n",
        "def plot_decision_regions(X, y, classifier, resolution=0.02):\n",
        "\n",
        "  # マーカーとカラーマップの準備\n",
        "  markers = ('s', 'x', 'o', '^', 'v')\n",
        "  colors = ('red', 'blue', 'lightgreen', 'gray', 'cyan')\n",
        "  cmap = ListedColormap(colors[:len(np.unique(y))])\n",
        "\n",
        "  # 決定領域のプロット\n",
        "  x1_min, x1_max = X[:, 0].min() - 1, X[:, 0].max() + 1\n",
        "  x2_min, x2_max = X[:, 1].min() - 1, X[:, 1].max() + 1\n",
        "  # グリッドポイントの生成\n",
        "  xx1, xx2 = np.meshgrid(np.arange(x1_min, x1_max, resolution), np.arange(x2_min, x2_max, resolution))\n",
        "  # 各特徴料を1次元配列に変換して予測を実行\n",
        "  Z = classifier.predict(np.array([xx1.ravel(), xx2.ravel()]).T)\n",
        "  # 予測結果を元のグリッドポイントのデータサイズに変換\n",
        "  Z = Z.reshape(xx1.shape)\n",
        "  # グリッドポイントの等高線のプロット\n",
        "  plt.contourf(xx1, xx2, Z, alpha=0.3, cmap=cmap)\n",
        "  # 軸の範囲の設定\n",
        "  plt.xlim(xx1.min(), xx1.max())\n",
        "  plt.ylim(xx2.min(), xx2.max())\n",
        "\n",
        "  # クラスごとに訓練データをプロット\n",
        "  for idx, cl in enumerate(np.unique(y)):\n",
        "    plt.scatter(x=X[y == cl, 0],\n",
        "                y=X[y == cl, 1],\n",
        "                alpha=0.8,\n",
        "                c=colors[idx],\n",
        "                marker=markers[idx],\n",
        "                label=cl,\n",
        "                edgecolor='black'\n",
        "                )"
      ],
      "execution_count": 29,
      "outputs": []
    },
    {
      "cell_type": "code",
      "metadata": {
        "colab": {
          "base_uri": "https://localhost:8080/",
          "height": 280
        },
        "id": "suLuTi7rPz5N",
        "outputId": "89e37f9d-f1d3-4063-eeda-d58ce0419bac"
      },
      "source": [
        "# 決定領域のプロット\n",
        "plot_decision_regions(X, y, classifier=ppn)\n",
        "# 軸ラベル\n",
        "plt.xlabel('sepal length [cm]')\n",
        "plt.ylabel('petal length [cm]')\n",
        "plt.legend(loc='upper left')\n",
        "plt.show()"
      ],
      "execution_count": 30,
      "outputs": [
        {
          "output_type": "display_data",
          "data": {
            "image/png": "[encoded data removed]",
            "text/plain": [
              "<Figure size 432x288 with 1 Axes>"
            ]
          },
          "metadata": {
            "tags": [],
            "needs_background": "light"
          }
        }
      ]
    },
    {
      "cell_type": "markdown",
      "metadata": {
        "id": "aOwTccIAursh"
      },
      "source": [
        "\n",
        "\n",
        "## ADALINEと学習の収束 (バッチ勾配降下法)\n",
        "\n",
        "---\n",
        "\n"
      ]
    },
    {
      "cell_type": "code",
      "metadata": {
        "id": "CqL47jd_umWk"
      },
      "source": [
        "class AdalineGD(object):\n",
        "  \"\"\"ADAptive LIner NEuron 分類機\n",
        "  パラメーター\n",
        "  ---------------------\n",
        "  eta : float\n",
        "      学習率 ( 0.0 より大きく 1.0 以下の値 )\n",
        "  n_iter : int\n",
        "      訓練データの訓練回数\n",
        "  random_state : int\n",
        "    重みを初期化するための乱数シード\n",
        "  属性\n",
        "  ---------------------\n",
        "  w_ : １次元配列\n",
        "      適合後のおもみ\n",
        "  cost_ : リスト\n",
        "      各エポックでの誤差平方和のコスト関数\n",
        "\n",
        "  \"\"\"\n",
        "\n",
        "  def __init__(self, eta=0.01, n_iter=50, random_state=1):\n",
        "    self.eta = eta\n",
        "    self.n_iter = n_iter\n",
        "    self.random_state = random_state\n",
        "  \n",
        "  def fit(self, X, y):\n",
        "    \"\"\" 訓練データに適合させる\n",
        "    パラメーター\n",
        "    ---------------------\n",
        "    X : { 配列のようなデータ構造 }, shape = {n_examples, n_features}\n",
        "        訓練データ\n",
        "        n_examplesは訓練データの個数, n_featuresは特徴量の個数\n",
        "    y : 配列のようなデータ構造, shape = {n_examples}\n",
        "        目的変数\n",
        "\n",
        "    戻り値\n",
        "    ---------------------\n",
        "    self : object\n",
        "\n",
        "    \"\"\"\n",
        "    rgen = np.random.RandomState(self.random_state)\n",
        "    self.w_ = rgen.normal(loc=0.0, scale=0.01, size=1 + X.shape[1])\n",
        "    self.cost_ = []\n",
        "\n",
        "    for i in range(self.n_iter):\n",
        "      net_input = self.net_input(X)\n",
        "      output = self.activation(net_input)\n",
        "      errors = ( y - output )\n",
        "      self.w_[1:] += self.eta * X.T.dot(errors)\n",
        "      self.w_[0] += self.eta * errors.sum()\n",
        "      cost = (errors**2).sum() / 2.0\n",
        "      self.cost_.append(cost)\n",
        "    return self\n",
        "\n",
        "  def net_input(self, X):\n",
        "    \"\"\" 総入力を計算 \"\"\"\n",
        "    return np.dot(X, self.w_[1:]) + self.w_[0]\n",
        "\n",
        "  def activation(self, X):\n",
        "    \"\"\" 線形活性化関数の出力を計算 \"\"\"\n",
        "    return X\n",
        "\n",
        "  def predict(self, X):\n",
        "    \"\"\" 1ステップ後のクラスラベルを返す \"\"\"\n",
        "    return np.where(self.activation(self.net_input(X)) >= 0.0, 1, -1)"
      ],
      "execution_count": 31,
      "outputs": []
    },
    {
      "cell_type": "code",
      "metadata": {
        "colab": {
          "base_uri": "https://localhost:8080/",
          "height": 295
        },
        "id": "WN2468P3wNW_",
        "outputId": "cd24f5dd-01d5-43b3-c24b-0da6edd4b129"
      },
      "source": [
        "# エポック数に対するコストプロット\n",
        "fig, ax = plt.subplots(nrows=1, ncols=2, figsize=(10, 4))\n",
        "ada1= AdalineGD(n_iter=10, eta=0.01).fit(X, y)\n",
        "ax[0].plot(range(1, len(ada1.cost_)+1), np.log10(ada1.cost_), marker='o')\n",
        "ax[0].set_xlabel('Epochs')\n",
        "ax[0].set_ylabel('log(Sum-squard-error)')\n",
        "ax[0].set_title('Adaline - Learning rate 0.01')\n",
        "\n",
        "ada2= AdalineGD(n_iter=10, eta=0.0001).fit(X, y)\n",
        "ax[1].plot(range(1, len(ada2.cost_)+1), ada2.cost_, marker='o')\n",
        "ax[1].set_xlabel('Epochs')\n",
        "ax[1].set_ylabel('Sum-squard-error')\n",
        "ax[1].set_title('Adaline - Learning rate 0.0001')\n",
        "\n",
        "plt.show()"
      ],
      "execution_count": 32,
      "outputs": [
        {
          "output_type": "display_data",
          "data": {
            "image/png": "[encoded data removed]",
            "text/plain": [
              "<Figure size 720x288 with 2 Axes>"
            ]
          },
          "metadata": {
            "tags": [],
            "needs_background": "light"
          }
        }
      ]
    },
    {
      "cell_type": "markdown",
      "metadata": {
        "id": "teV3orE60m2b"
      },
      "source": [
        "### 標準化\n",
        "\n",
        "$$\n",
        "x_{j}^{\\prime} = \\frac{x_{j} - \\mu_{j}}{\\sigma_{j}}\n",
        "$$\n",
        "\n",
        "> $\\sigma_{j}$ : 訓練データの平均\n",
        "> \n",
        "> $x_{j}^{\\prime}$ : 訓練データのj番目における特徴量ベクトル\n",
        "> \n",
        "> $\\sigma_{j}$ : 標準偏差\n",
        "\n",
        "\n",
        "\n"
      ]
    },
    {
      "cell_type": "code",
      "metadata": {
        "colab": {
          "base_uri": "https://localhost:8080/",
          "height": 577
        },
        "id": "zTCl7e6W0j9d",
        "outputId": "fd71f1e2-747d-4e16-8530-1820d6dd271b"
      },
      "source": [
        " # データのコピー\n",
        " X_std = np.copy(X)\n",
        " X_std[:, 0] = (X[:, 0] - X[:, 0].mean()) / X[:, 0].std()\n",
        " X_std[:, 1] = (X[:, 1] - X[:, 1].mean()) / X[:, 1].std()\n",
        "\n",
        "ada_gd = AdalineGD(n_iter=15, eta=0.01)\n",
        "ada_gd.fit(X_std, y)\n",
        "\n",
        "plot_decision_regions(X_std, y, classifier=ada_gd)\n",
        "plt.title('Adaline - Gradient Descent')\n",
        "plt.xlabel('sepal length [standardized]')\n",
        "plt.ylabel('petal length [standardized]')\n",
        "plt.legend(loc='upper left')\n",
        "plt.tight_layout()\n",
        "plt.show()\n",
        "\n",
        "plt.plot(range(1, len(ada_gd.cost_) + 1), ada_gd.cost_, marker='o')\n",
        "plt.xlabel('Epochs')\n",
        "plt.ylabel('Sum-squard-error')\n",
        "plt.tight_layout()\n",
        "plt.show()"
      ],
      "execution_count": 33,
      "outputs": [
        {
          "output_type": "display_data",
          "data": {
            "image/png": "[encoded data removed]",
            "text/plain": [
              "<Figure size 432x288 with 1 Axes>"
            ]
          },
          "metadata": {
            "tags": [],
            "needs_background": "light"
          }
        },
        {
          "output_type": "display_data",
          "data": {
            "image/png": "[encoded data removed]",
            "text/plain": [
              "<Figure size 432x288 with 1 Axes>"
            ]
          },
          "metadata": {
            "tags": [],
            "needs_background": "light"
          }
        }
      ]
    },
    {
      "cell_type": "markdown",
      "metadata": {
        "id": "dJ5lfTYz6zD2"
      },
      "source": [
        "## 確立的勾配降下法\n",
        "\n",
        "---\n",
        "\n"
      ]
    },
    {
      "cell_type": "code",
      "metadata": {
        "id": "u2Wc1o3E7BkO"
      },
      "source": [
        "from numpy.random import seed\n",
        "\n",
        "class AdalineSGD(object):\n",
        "  \"\"\"ADAptive LIner NEuron 分類機\n",
        "  パラメーター\n",
        "  ---------------------\n",
        "  eta : float\n",
        "      学習率 ( 0.0 より大きく 1.0 以下の値 )\n",
        "  n_iter : int\n",
        "      訓練データの訓練回数\n",
        "  shuffle : bool (デフォルト : True)\n",
        "    Trueの場合は、循環を回避するためにエポックごとに訓練データをシャッフル\n",
        "  random_state : int\n",
        "    重みを初期化するための乱数シード\n",
        "\n",
        "  属性\n",
        "  ---------------------\n",
        "  w_ : １次元配列\n",
        "      適合後のおもみ\n",
        "  cost_ : リスト\n",
        "      各エポックでの誤差平方和のコスト関数\n",
        "\n",
        "  \"\"\"\n",
        "\n",
        "  def __init__(self, eta=0.01, n_iter=10, shuffle=True, random_state=None):\n",
        "    self.eta = eta\n",
        "    self.n_iter = n_iter\n",
        "    self.w_initialized = False\n",
        "    self.shuffle = shuffle\n",
        "    self.random_state = random_state\n",
        "\n",
        "  def fit(self, X, y):\n",
        "    \"\"\" 訓練データに適合させる\n",
        "    パラメーター\n",
        "    ---------------------\n",
        "    X : { 配列のようなデータ構造 }, shape = {n_examples, n_features}\n",
        "        訓練データ\n",
        "        n_examplesは訓練データの個数, n_featuresは特徴量の個数\n",
        "    y : 配列のようなデータ構造, shape = {n_examples}\n",
        "        目的変数\n",
        "\n",
        "    戻り値\n",
        "    ---------------------\n",
        "    self : object\n",
        "\n",
        "    \"\"\"\n",
        "    self._initialize_weights(X.shape[1])\n",
        "    self.cost_ = []\n",
        "    for i in range(self.n_iter):\n",
        "      if self.shuffle:\n",
        "        X, y = self._shuffle(X, y)\n",
        "      cost = []\n",
        "      for xi, target in zip(X, y):\n",
        "        cost.append(self._update_weights(xi, target))\n",
        "      avg_cost = sum(cost) / len(y)\n",
        "      self.cost_.append(avg_cost)\n",
        "    return self\n",
        "\n",
        "  def  partial_fit(self, X, y):\n",
        "    \"\"\" 重みを再初期化することなく訓練データに適合させる \"\"\"\n",
        "    if not self.w_initialized:\n",
        "      self._initialize_weights(X.shape[1])\n",
        "    if y.ravel().shape[0] > 1:\n",
        "      for xi, target in zip(X, y):\n",
        "        self._update_weights(xi, target)\n",
        "    else:\n",
        "      self._update_weights(X, y)\n",
        "    return self\n",
        "  \n",
        "  def _shuffle(self, X, y):\n",
        "    \"\"\" 訓練データをシャッフル \"\"\"\n",
        "    r = self.rgen.permutation(len(y))\n",
        "    return X[r], y[r]\n",
        "  \n",
        "  def _initialize_weights(self, m):\n",
        "    \"\"\" 重みを小さな乱数に初期化 \"\"\"\n",
        "    self.rgen = np.random.RandomState(self.random_state)\n",
        "    self.w_ = self.rgen.normal(loc=0.0, scale=0.01, size=1 + m)\n",
        "    self.w_initialized = True\n",
        "  \n",
        "  def _update_weights(self, xi, target):\n",
        "    \"\"\" ADALINEの学習規則を用いて重みを更新 \"\"\"\n",
        "    output = self.activation(self.net_input(xi))\n",
        "    error = (target - output)\n",
        "    self.w_[1:] += self.eta * xi.dot(error)\n",
        "    self.w_[0] += self.eta * error\n",
        "    cost = 0.5 * error**2\n",
        "    return cost\n",
        "  \n",
        "  def net_input(self, X):\n",
        "    \"\"\" 総入力を計算 \"\"\"\n",
        "    return np.dot(X, self.w_[1:] ) + self.w_[0]\n",
        "  \n",
        "  def activation(self, X):\n",
        "    \"\"\" 線形活性化関数の出力を計算 \"\"\"\n",
        "    return X\n",
        "\n",
        "  def predict(self, X):\n",
        "    \"\"\" 1ステップ後のクラスラベルを返す \"\"\"\n",
        "    return np.where(self.activation(self.net_input(X) ) >= 0.0, 1, -1)\n",
        "\n"
      ],
      "execution_count": 36,
      "outputs": []
    },
    {
      "cell_type": "code",
      "metadata": {
        "colab": {
          "base_uri": "https://localhost:8080/",
          "height": 577
        },
        "id": "rblmyzLY2jfh",
        "outputId": "489ef6c4-ba3a-413a-dc33-5355142bc06f"
      },
      "source": [
        "ada_sgd = AdalineSGD(n_iter=15, eta=0.01, random_state=1)\n",
        "ada_sgd.fit(X_std, y)\n",
        "plot_decision_regions(X_std, y, classifier=ada_sgd)\n",
        "plt.title('Adaline - Stochastic Gradient Descent')\n",
        "plt.xlabel('sepal length [standardized]')\n",
        "plt.ylabel('petal length [stardardized]')\n",
        "plt.legend(loc='upper left')\n",
        "plt.tight_layout()\n",
        "plt.show()\n",
        "\n",
        "plt.plot( range(1, len(ada_sgd.cost_) + 1), ada_sgd.cost_, marker='o')\n",
        "plt.xlabel('Epochs')\n",
        "plt.ylabel('Average Cost')\n",
        "plt.tight_layout()\n",
        "plt.show()"
      ],
      "execution_count": 37,
      "outputs": [
        {
          "output_type": "display_data",
          "data": {
            "image/png": "[encoded data removed]",
            "text/plain": [
              "<Figure size 432x288 with 1 Axes>"
            ]
          },
          "metadata": {
            "tags": [],
            "needs_background": "light"
          }
        },
        {
          "output_type": "display_data",
          "data": {
            "image/png": "[encoded data removed]",
            "text/plain": [
              "<Figure size 432x288 with 1 Axes>"
            ]
          },
          "metadata": {
            "tags": [],
            "needs_background": "light"
          }
        }
      ]
    }
  ]
}